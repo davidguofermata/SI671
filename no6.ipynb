{
 "cells": [
  {
   "cell_type": "code",
   "execution_count": 1,
   "metadata": {
    "collapsed": true
   },
   "outputs": [],
   "source": [
    "import pandas\n",
    "import numpy"
   ]
  },
  {
   "cell_type": "code",
   "execution_count": 2,
   "metadata": {
    "collapsed": false
   },
   "outputs": [],
   "source": [
    "d=pandas.read_csv(\"exercise-txn-db.tsv\",sep=\"\\t\")"
   ]
  },
  {
   "cell_type": "code",
   "execution_count": 4,
   "metadata": {
    "collapsed": false
   },
   "outputs": [],
   "source": [
    "import timeit\n",
    "#Takes about 30 seconds to \"clean\" formatting\n",
    "exerciseslist=list()\n",
    "start=timeit.default_timer()\n",
    "for i in range(0,d.shape[0]):\n",
    "    exerciseslist.append(d['exercises'].iloc[i].split(','))\n",
    "#print(timeit.default_timer()-start)"
   ]
  },
  {
   "cell_type": "code",
   "execution_count": 6,
   "metadata": {
    "collapsed": false
   },
   "outputs": [],
   "source": [
    "from pyspark import SparkContext\n",
    "from pyspark.mllib.fpm import *\n",
    "sc = SparkContext(\"local\", \"App Name\")\n",
    "rdd=sc.parallelize(exerciseslist, 2)"
   ]
  },
  {
   "cell_type": "code",
   "execution_count": 7,
   "metadata": {
    "collapsed": false
   },
   "outputs": [],
   "source": [
    "modelhalfperc=FPGrowth.train(rdd, 0.005, 2)\n",
    "modeltwoperc=FPGrowth.train(rdd, 0.02, 2)\n",
    "modelfiveperc=FPGrowth.train(rdd, 0.05, 2)\n",
    "modeltenperc=FPGrowth.train(rdd, 0.1, 2)\n",
    "modelhalf=FPGrowth.train(rdd, 0.5, 2)"
   ]
  },
  {
   "cell_type": "code",
   "execution_count": 21,
   "metadata": {
    "collapsed": false
   },
   "outputs": [
    {
     "data": {
      "text/plain": [
       "429"
      ]
     },
     "execution_count": 21,
     "metadata": {},
     "output_type": "execute_result"
    }
   ],
   "source": [
    "len(modelhalfperc.freqItemsets().collect())"
   ]
  },
  {
   "cell_type": "code",
   "execution_count": 22,
   "metadata": {
    "collapsed": false,
    "scrolled": true
   },
   "outputs": [
    {
     "data": {
      "text/plain": [
       "72"
      ]
     },
     "execution_count": 22,
     "metadata": {},
     "output_type": "execute_result"
    }
   ],
   "source": [
    "len(modeltwoperc.freqItemsets().collect())"
   ]
  },
  {
   "cell_type": "code",
   "execution_count": 20,
   "metadata": {
    "collapsed": false
   },
   "outputs": [
    {
     "data": {
      "text/plain": [
       "17"
      ]
     },
     "execution_count": 20,
     "metadata": {},
     "output_type": "execute_result"
    }
   ],
   "source": [
    "len(modelfiveperc.freqItemsets().collect())"
   ]
  },
  {
   "cell_type": "code",
   "execution_count": 23,
   "metadata": {
    "collapsed": false
   },
   "outputs": [
    {
     "data": {
      "text/plain": [
       "2"
      ]
     },
     "execution_count": 23,
     "metadata": {},
     "output_type": "execute_result"
    }
   ],
   "source": [
    "len(modeltenperc.freqItemsets().collect())"
   ]
  },
  {
   "cell_type": "code",
   "execution_count": 24,
   "metadata": {
    "collapsed": false
   },
   "outputs": [
    {
     "data": {
      "text/plain": [
       "0"
      ]
     },
     "execution_count": 24,
     "metadata": {},
     "output_type": "execute_result"
    }
   ],
   "source": [
    "len(modelhalf.freqItemsets().collect())"
   ]
  },
  {
   "cell_type": "code",
   "execution_count": 8,
   "metadata": {
    "collapsed": false
   },
   "outputs": [],
   "source": [
    "freq2=pandas.DataFrame(modeltwoperc.freqItemsets().collect())"
   ]
  },
  {
   "cell_type": "code",
   "execution_count": 53,
   "metadata": {
    "collapsed": false
   },
   "outputs": [
    {
     "name": "stdout",
     "output_type": "stream",
     "text": [
      "                                      items    freq\n",
      "0                                 [Push-Up]  125438\n",
      "1                     [Barbell Bench Press]  106541\n",
      "2                        [Barbell Deadlift]   94368\n",
      "3                                   [Plank]   93929\n",
      "4                           [Barbell Squat]   93081\n",
      "5                                  [Crunch]   89103\n",
      "6                                 [Pull-Up]   87780\n",
      "7                     [Dumbbell Bicep Curl]   86247\n",
      "8                              [Stretching]   77906\n",
      "9                       [Body Weight Squat]   70446\n",
      "10                                [Walking]   70219\n",
      "11  [Standing Barbell Shoulder Press (OHP)]   68239\n",
      "12                           [Lat Pulldown]   57531\n",
      "13                                [Chin-Up]   55917\n",
      "14                              [Leg Press]   52056\n",
      "15                                [Running]   51588\n",
      "16                   [One-Arm Dumbbell Row]   51291\n",
      "17                 [Dips - Triceps Version]   48938\n",
      "18            [Dumbbell Side Lateral Raise]   48058\n",
      "19                   [Dumbbell Bench Press]   47143\n"
     ]
    }
   ],
   "source": [
    "print(freq2.sort_values('freq',ascending=False)[0:20].reset_index(drop=True))"
   ]
  },
  {
   "cell_type": "code",
   "execution_count": 49,
   "metadata": {
    "collapsed": false
   },
   "outputs": [
    {
     "name": "stdout",
     "output_type": "stream",
     "text": [
      "                                                items    freq\n",
      "35                                          [Push-Up]  125438\n",
      "58                              [Barbell Bench Press]  106541\n",
      "10                                 [Barbell Deadlift]   94368\n",
      "66                                            [Plank]   93929\n",
      "16                                    [Barbell Squat]   93081\n",
      "46                                           [Crunch]   89103\n",
      "34                                          [Pull-Up]   87780\n",
      "53                              [Dumbbell Bicep Curl]   86247\n",
      "3                                        [Stretching]   77906\n",
      "62                                [Body Weight Squat]   70446\n",
      "23                                          [Walking]   70219\n",
      "42            [Standing Barbell Shoulder Press (OHP)]   68239\n",
      "30                                     [Lat Pulldown]   57531\n",
      "51                                          [Chin-Up]   55917\n",
      "12                                        [Leg Press]   52056\n",
      "69                                          [Running]   51588\n",
      "20                             [One-Arm Dumbbell Row]   51291\n",
      "40                           [Dips - Triceps Version]   48938\n",
      "28                      [Dumbbell Side Lateral Raise]   48058\n",
      "59                             [Dumbbell Bench Press]   47143\n",
      "9                                  [Seated Cable Row]   46171\n",
      "65                            [Bent Over Barbell Row]   45807\n",
      "19                                           [Sit-Up]   45282\n",
      "36                                   [Leg Extensions]   44446\n",
      "33                                     [Barbell Curl]   43919\n",
      "55                              [Running (treadmill)]   43058\n",
      "5                                [Elliptical Trainer]   41202\n",
      "61                                   [Dumbbell Flyes]   35548\n",
      "24                     [Incline Dumbbell Bench Press]   35145\n",
      "44                 [Standing Dumbbell Shoulder Press]   35138\n",
      "31                             [Cycling (stationary)]   34831\n",
      "52                     [Machine Chest Fly (Pec Deck)]   34375\n",
      "1                               [Standing Calf Raise]   34017\n",
      "71                                          [Bicycle]   32346\n",
      "22   [Walked up the stairs (in lieu of the elevator)]   31743\n",
      "41                   [Seated Dumbbell Shoulder Press]   31264\n",
      "27                                 [Triceps Pushdown]   30681\n",
      "57                             [Hammer Dumbbell Curl]   29517\n",
      "7                                        [Side Plank]   29047\n",
      "68                                [Body Weight Lunge]   28932\n",
      "15                                   [Dumbbell Shrug]   27772\n",
      "37                                  [Seated Leg Curl]   27164\n",
      "67                                   [Plank, Push-Up]   27128\n",
      "32                                    [Jumping Jacks]   26982\n",
      "54                             [Dips - Chest Version]   26209\n",
      "4                [Triceps Pushdown - Rope Attachment]   26138\n",
      "63                       [Body Weight Squat, Push-Up]   26080\n",
      "48                                  [Crunch, Push-Up]   25852\n",
      "60                                  [Dumbbell Lunges]   24672\n",
      "13                      [Barbell Incline Bench Press]   24576\n",
      "45                              [Walking (treadmill)]   24553\n",
      "29                                           [Burpee]   24436\n",
      "47                                    [Crunch, Plank]   24340\n",
      "50                          [Flat Straight Leg Raise]   24164\n",
      "17                  [Barbell Squat, Barbell Deadlift]   24081\n",
      "43  [Standing Barbell Shoulder Press (OHP), Barbel...   23251\n",
      "0                                    [Reverse Crunch]   23230\n",
      "18               [Barbell Squat, Barbell Bench Press]   23083\n",
      "70                             [Front Dumbbell Raise]   22921\n",
      "21                                  [Lying Leg Curls]   22896\n",
      "39                                [Machine Ab Crunch]   22048\n",
      "26                              [Front Barbell Squat]   22025\n",
      "49                                   [Dumbbell Squat]   21697\n",
      "6                                           [Cycling]   21609\n",
      "11            [Barbell Deadlift, Barbell Bench Press]   21512\n",
      "64                                [Seated Calf Raise]   21121\n",
      "14                  [Lying Barbell Triceps Extension]   20893\n",
      "38                                      [Pendlay Row]   20818\n",
      "8                                 [Side Plank, Plank]   20711\n",
      "25                               [Dumbbell Side Bend]   20638\n",
      "56                                        [ Group A ]   20502\n",
      "2                          [Two-Arm Kettlebell Swing]   20257\n"
     ]
    }
   ],
   "source": [
    "with pandas.option_context('display.max_rows', None):\n",
    "    print(freq2.sort_values('freq',ascending=False))"
   ]
  },
  {
   "cell_type": "code",
   "execution_count": 1,
   "metadata": {
    "collapsed": false
   },
   "outputs": [
    {
     "ename": "NameError",
     "evalue": "name 'pandas' is not defined",
     "output_type": "error",
     "traceback": [
      "\u001b[0;31m---------------------------------------------------------------------------\u001b[0m",
      "\u001b[0;31mNameError\u001b[0m                                 Traceback (most recent call last)",
      "\u001b[0;32m<ipython-input-1-c5226b5a9e05>\u001b[0m in \u001b[0;36m<module>\u001b[0;34m()\u001b[0m\n\u001b[0;32m----> 1\u001b[0;31m \u001b[0mfreqall\u001b[0m\u001b[0;34m=\u001b[0m\u001b[0mpandas\u001b[0m\u001b[0;34m.\u001b[0m\u001b[0mDataFrame\u001b[0m\u001b[0;34m(\u001b[0m\u001b[0mmodelhalfperc\u001b[0m\u001b[0;34m.\u001b[0m\u001b[0mfreqItemsets\u001b[0m\u001b[0;34m(\u001b[0m\u001b[0;34m)\u001b[0m\u001b[0;34m.\u001b[0m\u001b[0mcollect\u001b[0m\u001b[0;34m(\u001b[0m\u001b[0;34m)\u001b[0m\u001b[0;34m)\u001b[0m\u001b[0;34m\u001b[0m\u001b[0m\n\u001b[0m",
      "\u001b[0;31mNameError\u001b[0m: name 'pandas' is not defined"
     ]
    }
   ],
   "source": [
    "freqall=pandas.DataFrame(modelhalfperc.freqItemsets().collect())"
   ]
  },
  {
   "cell_type": "code",
   "execution_count": 37,
   "metadata": {
    "collapsed": false
   },
   "outputs": [],
   "source": [
    "#This could have been made into a function, \n",
    "#since we do it again for 3 items\n",
    "#but was not due to time constraints\n",
    "\n",
    "ind=list()\n",
    "for i in range(0, freqall.shape[0]):\n",
    "    if(len(freqall['items'][i])==2):\n",
    "        ind.append(freqall.index[i])"
   ]
  },
  {
   "cell_type": "code",
   "execution_count": 38,
   "metadata": {
    "collapsed": false
   },
   "outputs": [
    {
     "name": "stdout",
     "output_type": "stream",
     "text": [
      "                                                 items   freq\n",
      "397                                   [Plank, Push-Up]  27128\n",
      "382                       [Body Weight Squat, Push-Up]  26080\n",
      "274                                  [Crunch, Push-Up]  25852\n",
      "272                                    [Crunch, Plank]  24340\n",
      "89                   [Barbell Squat, Barbell Deadlift]  24081\n",
      "256  [Standing Barbell Shoulder Press (OHP), Barbel...  23251\n",
      "91                [Barbell Squat, Barbell Bench Press]  23083\n",
      "58             [Barbell Deadlift, Barbell Bench Press]  21512\n",
      "47                                 [Side Plank, Plank]  20711\n",
      "222                        [Leg Extensions, Leg Press]  18524\n",
      "379                         [Body Weight Squat, Plank]  17845\n",
      "233                  [Seated Leg Curl, Leg Extensions]  16130\n",
      "202                                 [Pull-Up, Push-Up]  15828\n",
      "374                        [Body Weight Squat, Crunch]  15483\n",
      "257  [Standing Barbell Shoulder Press (OHP), Barbel...  15307\n",
      "100                                  [Sit-Up, Push-Up]  15245\n",
      "404             [Body Weight Lunge, Body Weight Squat]  15215\n",
      "325                     [Dumbbell Bicep Curl, Push-Up]  14385\n",
      "55                    [Seated Cable Row, Lat Pulldown]  13849\n",
      "200                     [Pull-Up, Barbell Bench Press]  13676\n",
      "391       [Bent Over Barbell Row, Barbell Bench Press]  13624\n",
      "420                                  [Bicycle, Crunch]  13421\n",
      "262  [Standing Dumbbell Shoulder Press, Dumbbell Bi...  12823\n",
      "320                      [Dumbbell Bicep Curl, Crunch]  12669\n",
      "235                       [Seated Leg Curl, Leg Press]  12617\n",
      "308                                 [Chin-Up, Pull-Up]  12430\n",
      "410                       [Body Weight Lunge, Push-Up]  12196\n",
      "418  [Front Dumbbell Raise, Dumbbell Side Lateral R...  12141\n",
      "197                        [Pull-Up, Barbell Deadlift]  12099\n",
      "155  [Dumbbell Side Lateral Raise, Dumbbell Bicep C...  11847\n",
      "424                                   [Bicycle, Plank]  11800\n",
      "187                           [Jumping Jacks, Push-Up]  11764\n",
      "35                               [Stretching, Push-Up]  11747\n",
      "217               [Adductor Machine, Abductor Machine]  11461\n",
      "323                       [Dumbbell Bicep Curl, Plank]  11403\n",
      "114                  [Lying Leg Curls, Leg Extensions]  11300\n",
      "199                           [Pull-Up, Barbell Squat]  11237\n",
      "33                                 [Stretching, Plank]  11158\n",
      "105        [One-Arm Dumbbell Row, Dumbbell Bicep Curl]  11058\n",
      "172                             [ Group C ,  Group B ]  10931\n",
      "268                             [ Group B ,  Group A ]  10604\n",
      "181                 [Jumping Jacks, Body Weight Squat]  10496\n",
      "184                             [Jumping Jacks, Plank]  10299\n",
      "259  [Standing Barbell Shoulder Press (OHP), Barbel...  10263\n",
      "425                                 [Bicycle, Push-Up]  10215\n",
      "79                            [Oblique Crunch, Crunch]  10008\n",
      "167                [Lat Pulldown, Dumbbell Bicep Curl]   9942\n",
      "306                     [Chin-Up, Barbell Bench Press]   9743\n",
      "336        [Hammer Dumbbell Curl, Dumbbell Bicep Curl]   9540\n",
      "368             [Dumbbell Flyes, Dumbbell Bench Press]   9514\n",
      "408                         [Body Weight Lunge, Plank]   9422\n",
      "249                  [Dips - Triceps Version, Push-Up]   9382\n",
      "340        [Dumbbell Bench Press, Dumbbell Bicep Curl]   9371\n",
      "63                          [Leg Press, Barbell Squat]   9305\n",
      "322         [Dumbbell Bicep Curl, Barbell Bench Press]   9270\n",
      "30                         [Stretching, Barbell Squat]   9240\n",
      "260   [Standing Barbell Shoulder Press (OHP), Pull-Up]   9082\n",
      "193                [Barbell Curl, Barbell Bench Press]   9082\n",
      "13                            [Reverse Crunch, Crunch]   8995\n",
      "98                                     [Sit-Up, Plank]   8967\n",
      "248                  [Dips - Triceps Version, Pull-Up]   8914\n",
      "338                     [Barbell Bench Press, Push-Up]   8901\n",
      "373                    [Body Weight Squat, Stretching]   8844\n",
      "298                  [Flat Straight Leg Raise, Crunch]   8797\n",
      "29                                [Stretching, Crunch]   8735\n",
      "366              [Dumbbell Flyes, Dumbbell Bicep Curl]   8717\n",
      "115                       [Lying Leg Curls, Leg Press]   8584\n",
      "230                 [Pendlay Row, Barbell Bench Press]   8569\n",
      "389          [Bent Over Barbell Row, Barbell Deadlift]   8568\n",
      "162                                  [Burpee, Push-Up]   8544\n",
      "223                    [Leg Extensions, Barbell Squat]   8544\n",
      "324                     [Dumbbell Bicep Curl, Pull-Up]   8503\n",
      "24                          [Foam Rolling, Stretching]   8457\n",
      "180                            [Jumping Jacks, Crunch]   8453\n",
      "246      [Dips - Triceps Version, Barbell Bench Press]   8425\n",
      "49                               [Side Plank, Push-Up]   8350\n",
      "390             [Bent Over Barbell Row, Barbell Squat]   8266\n",
      "416                                 [Running, Push-Up]   8265\n",
      "403                        [Body Weight Lunge, Crunch]   8206\n",
      "124                                 [Walking, Push-Up]   8152\n",
      "97                         [Sit-Up, Body Weight Squat]   8088\n",
      "201                                   [Pull-Up, Plank]   8082\n",
      "309                                 [Chin-Up, Push-Up]   7947\n",
      "93                            [Barbell Squat, Push-Up]   7865\n",
      "32                   [Stretching, Barbell Bench Press]   7813\n",
      "303                        [Chin-Up, Barbell Deadlift]   7772\n",
      "92                              [Barbell Squat, Plank]   7643\n",
      "168                [Lat Pulldown, Barbell Bench Press]   7625\n",
      "363   [Calf Press On The Leg Press Machine, Leg Press]   7583\n",
      "302   [Chin-Up, Standing Barbell Shoulder Press (OHP)]   7572\n",
      "107               [One-Arm Dumbbell Row, Lat Pulldown]   7571\n",
      "241  [Seated Dumbbell Shoulder Press, Dumbbell Side...   7503\n",
      "387  [Bent Over Barbell Row, Standing Barbell Shoul...   7496\n",
      "44                                [Side Plank, Crunch]   7479\n",
      "384                [Seated Calf Raise, Leg Extensions]   7443\n",
      "396                       [Plank, Barbell Bench Press]   7422\n",
      "86       [Dumbbell Shrug, Dumbbell Side Lateral Raise]   7400\n",
      "299                   [Flat Straight Leg Raise, Plank]   7336\n",
      "341       [Dumbbell Bench Press, One-Arm Dumbbell Row]   7277\n",
      "120                              [Walking, Stretching]   7262\n",
      "28                      [Stretching, Barbell Deadlift]   7212\n",
      "295    [Tricep Dumbbell Kickback, Dumbbell Bicep Curl]   7192\n",
      "64                           [Leg Press, Lat Pulldown]   7158\n",
      "118  [Walked up the stairs (in lieu of the elevator...   7154\n",
      "127  [Incline Dumbbell Bench Press, Barbell Bench P...   7104\n",
      "367              [Dumbbell Flyes, Barbell Bench Press]   7101\n",
      "34                               [Stretching, Pull-Up]   7062\n",
      "321               [Dumbbell Bicep Curl, Barbell Squat]   7058\n",
      "304                           [Chin-Up, Barbell Squat]   7015\n",
      "378           [Body Weight Squat, Dumbbell Bicep Curl]   7006\n",
      "385                     [Seated Calf Raise, Leg Press]   7004\n",
      "53            [Seated Cable Row, One-Arm Dumbbell Row]   6948\n",
      "401                      [Abductor Machine, Leg Press]   6924\n",
      "245      [Dips - Triceps Version, Dumbbell Bicep Curl]   6900\n",
      "52             [Seated Cable Row, Dumbbell Bicep Curl]   6850\n",
      "263  [Standing Dumbbell Shoulder Press, Dumbbell Si...   6850\n",
      "109                    [One-Arm Dumbbell Row, Pull-Up]   6844\n",
      "96                                    [Sit-Up, Crunch]   6763\n",
      "315       [Machine Chest Fly (Pec Deck), Lat Pulldown]   6761\n",
      "19            [Standing Calf Raise, Body Weight Squat]   6758\n",
      "106        [One-Arm Dumbbell Row, Barbell Bench Press]   6716\n",
      "357         [Wide-Grip Lat Pulldown, Seated Cable Row]   6714\n",
      "56                         [Seated Cable Row, Pull-Up]   6713\n",
      "72   [Barbell Incline Bench Press, Barbell Bench Pr...   6616\n",
      "194              [Barbell Curl, Bent Over Barbell Row]   6590\n",
      "423                       [Bicycle, Body Weight Squat]   6578\n",
      "265        [Standing Dumbbell Shoulder Press, Push-Up]   6577\n",
      "186                 [Jumping Jacks, Body Weight Lunge]   6544\n",
      "14                             [Reverse Crunch, Plank]   6434\n",
      "216                      [Adductor Machine, Leg Press]   6417\n",
      "291  [Dumbbell 2-Arm Triceps Extension, Dumbbell Bi...   6392\n",
      "174                             [ Group C ,  Group A ]   6372\n",
      "381                       [Body Weight Squat, Pull-Up]   6351\n",
      "59                         [Barbell Deadlift, Push-Up]   6337\n",
      "18                       [Standing Calf Raise, Crunch]   6337\n",
      "178                             [Russian Twist, Plank]   6317\n",
      "123                                   [Walking, Plank]   6303\n",
      "190                   [Barbell Curl, Barbell Deadlift]   6287\n",
      "271                      [Crunch, Barbell Bench Press]   6281\n",
      "395                          [Plank, Barbell Deadlift]   6249\n",
      "288              [Dumbbell Squat, Dumbbell Bicep Curl]   6208\n",
      "164                   [Lat Pulldown, Barbell Deadlift]   6204\n",
      "191                      [Barbell Curl, Barbell Squat]   6197\n",
      "169                            [Lat Pulldown, Pull-Up]   6189\n",
      "110                    [One-Arm Dumbbell Row, Push-Up]   6188\n",
      "31                   [Stretching, Dumbbell Bicep Curl]   6185\n",
      "153  [Dumbbell Side Lateral Raise, Standing Barbell...   6171\n",
      "129     [Incline Dumbbell Bench Press, Dumbbell Flyes]   6130\n",
      "247                    [Dips - Triceps Version, Plank]   6122\n",
      "319            [Dumbbell Bicep Curl, Barbell Deadlift]   6104\n",
      "121                                  [Walking, Crunch]   6088\n",
      "160                        [Burpee, Body Weight Squat]   6069\n",
      "5                                [Side Crunch, Crunch]   6062\n",
      "343                    [Dumbbell Bench Press, Push-Up]   6047\n",
      "85               [Dumbbell Shrug, Dumbbell Bicep Curl]   6045\n",
      "108                      [One-Arm Dumbbell Row, Plank]   6011\n",
      "369                          [Dumbbell Flyes, Push-Up]   5979\n",
      "189  [Barbell Curl, Standing Barbell Shoulder Press...   5949\n",
      "377                 [Body Weight Squat, Barbell Squat]   5946\n",
      "393                   [Bent Over Barbell Row, Pull-Up]   5931\n",
      "198                                  [Pull-Up, Crunch]   5889\n",
      "313  [Machine Chest Fly (Pec Deck), Barbell Bench P...   5865\n",
      "128  [Incline Dumbbell Bench Press, Dumbbell Bench ...   5821\n",
      "122                       [Walking, Body Weight Squat]   5788\n",
      "104           [One-Arm Dumbbell Row, Barbell Deadlift]   5780\n",
      "240  [Seated Dumbbell Shoulder Press, Dumbbell Bice...   5779\n",
      "192                [Barbell Curl, Dumbbell Bicep Curl]   5769\n",
      "392              [Bent Over Barbell Row, Lat Pulldown]   5734\n",
      "329        [Dips - Chest Version, Barbell Bench Press]   5704\n",
      "342        [Dumbbell Bench Press, Barbell Bench Press]   5691\n",
      "116                   [Lying Leg Curls, Barbell Squat]   5680\n",
      "270                            [Crunch, Barbell Squat]   5638\n",
      "400                 [Abductor Machine, Leg Extensions]   5616\n",
      "414                                 [Running, Walking]   5613\n",
      "16                           [Reverse Crunch, Push-Up]   5603\n",
      "20                        [Standing Calf Raise, Plank]   5592\n",
      "21                      [Standing Calf Raise, Push-Up]   5581\n",
      "211                             [ Group D ,  Group C ]   5577\n",
      "300                 [Flat Straight Leg Raise, Push-Up]   5570\n",
      "144               [Front Barbell Squat, Barbell Squat]   5566\n",
      "177                            [Russian Twist, Crunch]   5564\n",
      "285                    [Jump Squat (Toyotas), Push-Up]   5563\n",
      "15                           [Reverse Crunch, Bicycle]   5516\n",
      "255  [Standing Barbell Shoulder Press (OHP), Stretc...   5503\n",
      "154              [Dumbbell Side Lateral Raise, Crunch]   5498\n",
      "54             [Seated Cable Row, Barbell Bench Press]   5481\n",
      "156  [Dumbbell Side Lateral Raise, Barbell Bench Pr...   5475\n",
      "244                  [Dips - Triceps Version, Chin-Up]   5472\n",
      "158             [Dumbbell Side Lateral Raise, Push-Up]   5454\n",
      "243                   [Dips - Triceps Version, Crunch]   5441\n",
      "238                     [Machine Ab Crunch, Leg Press]   5420\n",
      "210                             [ Group D ,  Group B ]   5416\n",
      "307                                   [Chin-Up, Plank]   5402\n",
      "314  [Machine Chest Fly (Pec Deck), Incline Dumbbel...   5378\n",
      "161                                    [Burpee, Plank]   5374\n",
      "264          [Standing Dumbbell Shoulder Press, Plank]   5361\n",
      "327                 [Machine Seated Row, Lat Pulldown]   5318\n",
      "150            [Triceps Pushdown, Dumbbell Bicep Curl]   5285\n",
      "415                                   [Running, Plank]   5250\n",
      "46                     [Side Plank, Body Weight Squat]   5232\n",
      "349                       [Mountain Climbers, Push-Up]   5223\n",
      "305                     [Chin-Up, Dumbbell Bicep Curl]   5209\n",
      "51                [Seated Cable Row, Barbell Deadlift]   5194\n",
      "330                    [Dips - Chest Version, Pull-Up]   5175\n",
      "80                             [Oblique Crunch, Plank]   5159\n",
      "413                                  [Running, Crunch]   5135\n",
      "215                 [Adductor Machine, Leg Extensions]   5126\n",
      "362  [Calf Press On The Leg Press Machine, Leg Exte...   5125\n",
      "332                       [Running (treadmill), Plank]   5110\n",
      "157               [Dumbbell Side Lateral Raise, Plank]   5097\n",
      "195                       [Barbell Curl, Lat Pulldown]   5070\n",
      "388          [Bent Over Barbell Row, Seated Cable Row]   5068\n",
      "165                             [Lat Pulldown, Crunch]   5055\n",
      "99                                   [Sit-Up, Pull-Up]   5026\n",
      "166                      [Lat Pulldown, Barbell Squat]   5024\n",
      "289                          [Dumbbell Squat, Push-Up]   5022\n"
     ]
    }
   ],
   "source": [
    "twoitems=freqall.loc[ind,:]\n",
    "twoitems['freq']=twoitems['freq'].astype('int')\n",
    "twoitems=twoitems.sort_values('freq', ascending=False)\n",
    "with pandas.option_context('display.max_rows', None):\n",
    "    print(twoitems)"
   ]
  },
  {
   "cell_type": "code",
   "execution_count": 52,
   "metadata": {
    "collapsed": true
   },
   "outputs": [
    {
     "ename": "ValueError",
     "evalue": "Value must have type '<class 'int'>'",
     "output_type": "error",
     "traceback": [
      "\u001b[0;31m---------------------------------------------------------------------------\u001b[0m",
      "\u001b[0;31mValueError\u001b[0m                                Traceback (most recent call last)",
      "\u001b[0;32m<ipython-input-52-409043c9f130>\u001b[0m in \u001b[0;36m<module>\u001b[0;34m()\u001b[0m\n\u001b[0;32m----> 1\u001b[0;31m \u001b[0;32mwith\u001b[0m \u001b[0mpandas\u001b[0m\u001b[0;34m.\u001b[0m\u001b[0moption_context\u001b[0m\u001b[0;34m(\u001b[0m\u001b[0;34m'display.max_colwidth'\u001b[0m\u001b[0;34m,\u001b[0m \u001b[0;32mNone\u001b[0m\u001b[0;34m)\u001b[0m\u001b[0;34m:\u001b[0m\u001b[0;34m\u001b[0m\u001b[0m\n\u001b[0m\u001b[1;32m      2\u001b[0m     \u001b[0mprint\u001b[0m\u001b[0;34m(\u001b[0m\u001b[0mtwoitems\u001b[0m\u001b[0;34m[\u001b[0m\u001b[0mtwoitems\u001b[0m\u001b[0;34m[\u001b[0m\u001b[0;34m'freq'\u001b[0m\u001b[0;34m]\u001b[0m\u001b[0;34m==\u001b[0m\u001b[0;36m7154\u001b[0m\u001b[0;34m]\u001b[0m\u001b[0;34m)\u001b[0m\u001b[0;34m\u001b[0m\u001b[0m\n",
      "\u001b[0;32m/Users/davidguo/anaconda/lib/python3.6/site-packages/pandas/core/config.py\u001b[0m in \u001b[0;36m__enter__\u001b[0;34m(self)\u001b[0m\n\u001b[1;32m    400\u001b[0m \u001b[0;34m\u001b[0m\u001b[0m\n\u001b[1;32m    401\u001b[0m         \u001b[0;32mfor\u001b[0m \u001b[0mpat\u001b[0m\u001b[0;34m,\u001b[0m \u001b[0mval\u001b[0m \u001b[0;32min\u001b[0m \u001b[0mself\u001b[0m\u001b[0;34m.\u001b[0m\u001b[0mops\u001b[0m\u001b[0;34m:\u001b[0m\u001b[0;34m\u001b[0m\u001b[0m\n\u001b[0;32m--> 402\u001b[0;31m             \u001b[0m_set_option\u001b[0m\u001b[0;34m(\u001b[0m\u001b[0mpat\u001b[0m\u001b[0;34m,\u001b[0m \u001b[0mval\u001b[0m\u001b[0;34m,\u001b[0m \u001b[0msilent\u001b[0m\u001b[0;34m=\u001b[0m\u001b[0;32mTrue\u001b[0m\u001b[0;34m)\u001b[0m\u001b[0;34m\u001b[0m\u001b[0m\n\u001b[0m\u001b[1;32m    403\u001b[0m \u001b[0;34m\u001b[0m\u001b[0m\n\u001b[1;32m    404\u001b[0m     \u001b[0;32mdef\u001b[0m \u001b[0m__exit__\u001b[0m\u001b[0;34m(\u001b[0m\u001b[0mself\u001b[0m\u001b[0;34m,\u001b[0m \u001b[0;34m*\u001b[0m\u001b[0margs\u001b[0m\u001b[0;34m)\u001b[0m\u001b[0;34m:\u001b[0m\u001b[0;34m\u001b[0m\u001b[0m\n",
      "\u001b[0;32m/Users/davidguo/anaconda/lib/python3.6/site-packages/pandas/core/config.py\u001b[0m in \u001b[0;36m_set_option\u001b[0;34m(*args, **kwargs)\u001b[0m\n\u001b[1;32m    121\u001b[0m         \u001b[0mo\u001b[0m \u001b[0;34m=\u001b[0m \u001b[0m_get_registered_option\u001b[0m\u001b[0;34m(\u001b[0m\u001b[0mkey\u001b[0m\u001b[0;34m)\u001b[0m\u001b[0;34m\u001b[0m\u001b[0m\n\u001b[1;32m    122\u001b[0m         \u001b[0;32mif\u001b[0m \u001b[0mo\u001b[0m \u001b[0;32mand\u001b[0m \u001b[0mo\u001b[0m\u001b[0;34m.\u001b[0m\u001b[0mvalidator\u001b[0m\u001b[0;34m:\u001b[0m\u001b[0;34m\u001b[0m\u001b[0m\n\u001b[0;32m--> 123\u001b[0;31m             \u001b[0mo\u001b[0m\u001b[0;34m.\u001b[0m\u001b[0mvalidator\u001b[0m\u001b[0;34m(\u001b[0m\u001b[0mv\u001b[0m\u001b[0;34m)\u001b[0m\u001b[0;34m\u001b[0m\u001b[0m\n\u001b[0m\u001b[1;32m    124\u001b[0m \u001b[0;34m\u001b[0m\u001b[0m\n\u001b[1;32m    125\u001b[0m         \u001b[0;31m# walk the nested dict\u001b[0m\u001b[0;34m\u001b[0m\u001b[0;34m\u001b[0m\u001b[0m\n",
      "\u001b[0;32m/Users/davidguo/anaconda/lib/python3.6/site-packages/pandas/core/config.py\u001b[0m in \u001b[0;36minner\u001b[0;34m(x)\u001b[0m\n\u001b[1;32m    754\u001b[0m     \u001b[0;32mdef\u001b[0m \u001b[0minner\u001b[0m\u001b[0;34m(\u001b[0m\u001b[0mx\u001b[0m\u001b[0;34m)\u001b[0m\u001b[0;34m:\u001b[0m\u001b[0;34m\u001b[0m\u001b[0m\n\u001b[1;32m    755\u001b[0m         \u001b[0;32mif\u001b[0m \u001b[0mtype\u001b[0m\u001b[0;34m(\u001b[0m\u001b[0mx\u001b[0m\u001b[0;34m)\u001b[0m \u001b[0;34m!=\u001b[0m \u001b[0m_type\u001b[0m\u001b[0;34m:\u001b[0m\u001b[0;34m\u001b[0m\u001b[0m\n\u001b[0;32m--> 756\u001b[0;31m             \u001b[0;32mraise\u001b[0m \u001b[0mValueError\u001b[0m\u001b[0;34m(\u001b[0m\u001b[0;34m\"Value must have type '%s'\"\u001b[0m \u001b[0;34m%\u001b[0m \u001b[0mstr\u001b[0m\u001b[0;34m(\u001b[0m\u001b[0m_type\u001b[0m\u001b[0;34m)\u001b[0m\u001b[0;34m)\u001b[0m\u001b[0;34m\u001b[0m\u001b[0m\n\u001b[0m\u001b[1;32m    757\u001b[0m \u001b[0;34m\u001b[0m\u001b[0m\n\u001b[1;32m    758\u001b[0m     \u001b[0;32mreturn\u001b[0m \u001b[0minner\u001b[0m\u001b[0;34m\u001b[0m\u001b[0m\n",
      "\u001b[0;31mValueError\u001b[0m: Value must have type '<class 'int'>'"
     ]
    }
   ],
   "source": [
    "with pandas.option_context('display.max_colwidth', None):\n",
    "    print(twoitems[twoitems['freq']==7154])"
   ]
  },
  {
   "cell_type": "code",
   "execution_count": 27,
   "metadata": {
    "collapsed": false
   },
   "outputs": [],
   "source": [
    "ind=list()\n",
    "for i in range(0, freqall.shape[0]):\n",
    "    if(len(freqall['items'][i])==3):\n",
    "        ind.append(freqall.index[i])\n",
    "threeitems=freqall.iloc[ind,:]\n",
    "threeitems=threeitems.sort_values('freq', ascending=False)"
   ]
  },
  {
   "cell_type": "code",
   "execution_count": 28,
   "metadata": {
    "collapsed": false,
    "scrolled": false
   },
   "outputs": [
    {
     "name": "stdout",
     "output_type": "stream",
     "text": [
      "                                                 items  freq\n",
      "273                           [Crunch, Plank, Push-Up]  9367\n",
      "380                [Body Weight Squat, Plank, Push-Up]  9012\n",
      "234       [Seated Leg Curl, Leg Extensions, Leg Press]  8102\n",
      "407    [Body Weight Lunge, Body Weight Squat, Push-Up]  7889\n",
      "376               [Body Weight Squat, Crunch, Push-Up]  7427\n",
      "90   [Barbell Squat, Barbell Deadlift, Barbell Benc...  7122\n",
      "375                 [Body Weight Squat, Crunch, Plank]  6869\n",
      "258  [Standing Barbell Shoulder Press (OHP), Barbel...  6511\n",
      "183        [Jumping Jacks, Body Weight Squat, Push-Up]  6402\n",
      "185                    [Jumping Jacks, Plank, Push-Up]  6305\n",
      "421                           [Bicycle, Crunch, Plank]  6236\n",
      "48                        [Side Plank, Plank, Push-Up]  6129\n",
      "406      [Body Weight Lunge, Body Weight Squat, Plank]  5992\n",
      "173                  [ Group C ,  Group B ,  Group A ]  5821\n",
      "45                         [Side Plank, Crunch, Plank]  5737\n",
      "182          [Jumping Jacks, Body Weight Squat, Plank]  5680\n",
      "218    [Adductor Machine, Abductor Machine, Leg Press]  5340\n",
      "405     [Body Weight Lunge, Body Weight Squat, Crunch]  5319\n",
      "409                [Body Weight Lunge, Plank, Push-Up]  5286\n",
      "212                  [ Group D ,  Group C ,  Group B ]  5204\n",
      "422                         [Bicycle, Crunch, Push-Up]  5190\n"
     ]
    }
   ],
   "source": [
    "threeitems['freq']=threeitems['freq'].astype('int')\n",
    "print(threeitems)"
   ]
  },
  {
   "cell_type": "code",
   "execution_count": 25,
   "metadata": {
    "collapsed": false
   },
   "outputs": [
    {
     "data": {
      "text/plain": [
       "0"
      ]
     },
     "execution_count": 25,
     "metadata": {},
     "output_type": "execute_result"
    }
   ],
   "source": [
    "ind=list()\n",
    "for i in range(0, freqall.shape[0]):\n",
    "    if(len(freqall['items'][i])>3):\n",
    "        ind.append(freqall.index[i])\n",
    "morethan3=freqall.iloc[ind,:]\n",
    "len(morethan3)"
   ]
  },
  {
   "cell_type": "code",
   "execution_count": 54,
   "metadata": {
    "collapsed": false,
    "scrolled": true
   },
   "outputs": [
    {
     "name": "stdout",
     "output_type": "stream",
     "text": [
      "                                                 items   freq\n",
      "397                                   [Plank, Push-Up]  27128\n",
      "382                       [Body Weight Squat, Push-Up]  26080\n",
      "274                                  [Crunch, Push-Up]  25852\n",
      "272                                    [Crunch, Plank]  24340\n",
      "89                   [Barbell Squat, Barbell Deadlift]  24081\n",
      "256  [Standing Barbell Shoulder Press (OHP), Barbel...  23251\n",
      "91                [Barbell Squat, Barbell Bench Press]  23083\n",
      "58             [Barbell Deadlift, Barbell Bench Press]  21512\n",
      "47                                 [Side Plank, Plank]  20711\n",
      "222                        [Leg Extensions, Leg Press]  18524\n"
     ]
    }
   ],
   "source": [
    "print(twoitems.head(10))"
   ]
  },
  {
   "cell_type": "code",
   "execution_count": 55,
   "metadata": {
    "collapsed": false
   },
   "outputs": [
    {
     "name": "stdout",
     "output_type": "stream",
     "text": [
      "                                                 items  freq\n",
      "215                 [Adductor Machine, Leg Extensions]  5126\n",
      "362  [Calf Press On The Leg Press Machine, Leg Exte...  5125\n",
      "332                       [Running (treadmill), Plank]  5110\n",
      "157               [Dumbbell Side Lateral Raise, Plank]  5097\n",
      "195                       [Barbell Curl, Lat Pulldown]  5070\n",
      "388          [Bent Over Barbell Row, Seated Cable Row]  5068\n",
      "165                             [Lat Pulldown, Crunch]  5055\n",
      "99                                   [Sit-Up, Pull-Up]  5026\n",
      "166                      [Lat Pulldown, Barbell Squat]  5024\n",
      "289                          [Dumbbell Squat, Push-Up]  5022\n"
     ]
    }
   ],
   "source": [
    "print(twoitems.tail(10))"
   ]
  },
  {
   "cell_type": "code",
   "execution_count": 56,
   "metadata": {
    "collapsed": false
   },
   "outputs": [
    {
     "data": {
      "text/plain": [
       "216"
      ]
     },
     "execution_count": 56,
     "metadata": {},
     "output_type": "execute_result"
    }
   ],
   "source": [
    "len(twoitems)"
   ]
  },
  {
   "cell_type": "code",
   "execution_count": null,
   "metadata": {
    "collapsed": true
   },
   "outputs": [],
   "source": []
  }
 ],
 "metadata": {
  "kernelspec": {
   "display_name": "Python 3",
   "language": "python",
   "name": "python3"
  },
  "language_info": {
   "codemirror_mode": {
    "name": "ipython",
    "version": 3
   },
   "file_extension": ".py",
   "mimetype": "text/x-python",
   "name": "python",
   "nbconvert_exporter": "python",
   "pygments_lexer": "ipython3",
   "version": "3.6.0"
  }
 },
 "nbformat": 4,
 "nbformat_minor": 2
}
